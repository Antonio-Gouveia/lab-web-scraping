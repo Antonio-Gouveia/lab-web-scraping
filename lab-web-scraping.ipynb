{
 "cells": [
  {
   "cell_type": "markdown",
   "id": "7e7a1ab8-2599-417d-9a65-25ef07f3a786",
   "metadata": {
    "id": "7e7a1ab8-2599-417d-9a65-25ef07f3a786"
   },
   "source": [
    "# Lab | Web Scraping"
   ]
  },
  {
   "cell_type": "markdown",
   "id": "ce8882fc-4815-4567-92fa-b4816358ba7d",
   "metadata": {
    "id": "ce8882fc-4815-4567-92fa-b4816358ba7d"
   },
   "source": [
    "Welcome to the \"Books to Scrape\" Web Scraping Adventure Lab!\n",
    "\n",
    "**Objective**\n",
    "\n",
    "In this lab, we will embark on a mission to unearth valuable insights from the data available on Books to Scrape, an online platform showcasing a wide variety of books. As data analyst, you have been tasked with scraping a specific subset of book data from Books to Scrape to assist publishing companies in understanding the landscape of highly-rated books across different genres. Your insights will help shape future book marketing strategies and publishing decisions.\n",
    "\n",
    "**Background**\n",
    "\n",
    "In a world where data has become the new currency, businesses are leveraging big data to make informed decisions that drive success and profitability. The publishing industry, much like others, utilizes data analytics to understand market trends, reader preferences, and the performance of books based on factors such as genre, author, and ratings. Books to Scrape serves as a rich source of such data, offering detailed information about a diverse range of books, making it an ideal platform for extracting insights to aid in informed decision-making within the literary world.\n",
    "\n",
    "**Task**\n",
    "\n",
    "Your task is to create a Python script using BeautifulSoup and pandas to scrape Books to Scrape book data, focusing on book ratings and genres. The script should be able to filter books with ratings above a certain threshold and in specific genres. Additionally, the script should structure the scraped data in a tabular format using pandas for further analysis.\n",
    "\n",
    "**Expected Outcome**\n",
    "\n",
    "A function named `scrape_books` that takes two parameters: `min_rating` and `max_price`. The function should scrape book data from the \"Books to Scrape\" website and return a `pandas` DataFrame with the following columns:\n",
    "\n",
    "**Expected Outcome**\n",
    "\n",
    "- A function named `scrape_books` that takes two parameters: `min_rating` and `max_price`.\n",
    "- The function should return a DataFrame with the following columns:\n",
    "  - **UPC**: The Universal Product Code (UPC) of the book.\n",
    "  - **Title**: The title of the book.\n",
    "  - **Price (£)**: The price of the book in pounds.\n",
    "  - **Rating**: The rating of the book (1-5 stars).\n",
    "  - **Genre**: The genre of the book.\n",
    "  - **Availability**: Whether the book is in stock or not.\n",
    "  - **Description**: A brief description or product description of the book (if available).\n",
    "  \n",
    "You will execute this script to scrape data for books with a minimum rating of `4.0 and above` and a maximum price of `£20`. \n",
    "\n",
    "Remember to experiment with different ratings and prices to ensure your code is versatile and can handle various searches effectively!\n",
    "\n",
    "**Resources**\n",
    "\n",
    "- [Beautiful Soup Documentation](https://www.crummy.com/software/BeautifulSoup/bs4/doc/)\n",
    "- [Pandas Documentation](https://pandas.pydata.org/pandas-docs/stable/index.html)\n",
    "- [Books to Scrape](https://books.toscrape.com/)\n"
   ]
  },
  {
   "cell_type": "markdown",
   "id": "3519921d-5890-445b-9a33-934ed8ee378c",
   "metadata": {
    "id": "3519921d-5890-445b-9a33-934ed8ee378c"
   },
   "source": [
    "**Hint**\n",
    "\n",
    "Your first mission is to familiarize yourself with the **Books to Scrape** website. Navigate to [Books to Scrape](http://books.toscrape.com/) and explore the available books to understand their layout and structure. \n",
    "\n",
    "Next, think about how you can set parameters for your data extraction:\n",
    "\n",
    "- **Minimum Rating**: Focus on books with a rating of 4.0 and above.\n",
    "- **Maximum Price**: Filter for books priced up to £20.\n",
    "\n",
    "After reviewing the site, you can construct a plan for scraping relevant data. Pay attention to the details displayed for each book, including the title, price, rating, and availability. This will help you identify the correct HTML elements to target with your scraping script.\n",
    "\n",
    "Make sure to build your scraping URL and logic based on the patterns you observe in the HTML structure of the book listings!"
   ]
  },
  {
   "cell_type": "markdown",
   "id": "25a83a0d-a742-49f6-985e-e27887cbf922",
   "metadata": {
    "id": "25a83a0d-a742-49f6-985e-e27887cbf922"
   },
   "source": [
    "\n",
    "---\n",
    "\n",
    "**Best of luck! Immerse yourself in the world of books, and may the data be with you!**"
   ]
  },
  {
   "cell_type": "markdown",
   "id": "7b75cf0d-9afa-4eec-a9e2-befeac68b2a0",
   "metadata": {
    "id": "7b75cf0d-9afa-4eec-a9e2-befeac68b2a0"
   },
   "source": [
    "**Important Note**:\n",
    "\n",
    "In the fast-changing online world, websites often update and change their structures. When you try this lab, the **Books to Scrape** website might differ from what you expect.\n",
    "\n",
    "If you encounter issues due to these changes, like new rules or obstacles preventing data extraction, don’t worry! Get creative.\n",
    "\n",
    "You can choose another website that interests you and is suitable for scraping data. Options like Wikipedia, The New York Times, or even library databases are great alternatives. The main goal remains the same: extract useful data and enhance your web scraping skills while exploring a source of information you enjoy. This is your opportunity to practice and adapt to different web environments!"
   ]
  },
  {
   "cell_type": "code",
   "execution_count": 1,
   "id": "a70dffb0-d57d-4c49-bbfd-c5cf6a1f6f30",
   "metadata": {},
   "outputs": [],
   "source": [
    "import pandas as pd"
   ]
  },
  {
   "cell_type": "code",
   "execution_count": 2,
   "id": "40359eee-9cd7-4884-bfa4-83344c222305",
   "metadata": {
    "id": "40359eee-9cd7-4884-bfa4-83344c222305"
   },
   "outputs": [
    {
     "data": {
      "text/plain": [
       "<Response [200]>"
      ]
     },
     "execution_count": 2,
     "metadata": {},
     "output_type": "execute_result"
    }
   ],
   "source": [
    "import requests\n",
    "\n",
    "url = \"https://books.toscrape.com/\"\n",
    "response = requests.get(url)\n",
    "response"
   ]
  },
  {
   "cell_type": "code",
   "execution_count": 4,
   "id": "d43460e8-3fcd-4218-8ce6-c212c6d9ee9e",
   "metadata": {},
   "outputs": [],
   "source": [
    "from bs4 import BeautifulSoup\n",
    "\n",
    "soup = BeautifulSoup(response.content, \"html.parser\")"
   ]
  },
  {
   "cell_type": "code",
   "execution_count": 22,
   "id": "0aecab7d-861a-4919-8368-608b82dbec45",
   "metadata": {},
   "outputs": [],
   "source": [
    "def scrape_books(min_rating, max_price):\n",
    "    \"\"\"\n",
    "    Scrape books from books.toscrape.com that meet minimum rating and maximum price criteria.\n",
    "    \n",
    "    Args:\n",
    "        min_rating (int): Minimum rating threshold (1-5)\n",
    "        max_price (float): Maximum price threshold\n",
    "        \n",
    "    Returns:\n",
    "        pandas.DataFrame: DataFrame containing details of books that meet the criteria\n",
    "    \"\"\"\n",
    "    # Base URL for pagination\n",
    "    base_url = \"http://books.toscrape.com/catalogue/page-{}.html\"\n",
    "    all_books = []\n",
    "\n",
    "    # Loop through all 50 pages of the catalog\n",
    "    for page in range(1, 51):\n",
    "        # Format the URL with current page number\n",
    "        url = base_url.format(page)\n",
    "        # Send HTTP GET request to the page\n",
    "        response = requests.get(url)\n",
    "        # Parse HTML content with BeautifulSoup\n",
    "        soup = BeautifulSoup(response.text, 'html.parser')\n",
    "        # Find all book articles on the page\n",
    "        books = soup.select('article.product_pod')\n",
    "\n",
    "        # Process each book on the current page\n",
    "        for book in books:\n",
    "            # Extract book title from the anchor tag\n",
    "            title = book.h3.a['title']\n",
    "            # Extract and convert price to float (removing '£' symbol)\n",
    "            price = float(book.select_one('.price_color').text[2:])\n",
    "            # Extract rating class and convert to numeric value\n",
    "            rating_text = book.select_one('p.star-rating')['class'][1]\n",
    "            rating = {'One':1, 'Two':2, 'Three':3, 'Four':4, 'Five':5}[rating_text]\n",
    "\n",
    "            # Filter books based on rating and price criteria\n",
    "            if rating >= min_rating and price <= max_price:\n",
    "                # Get link to book detail page\n",
    "                link = book.h3.a['href']\n",
    "                full_link = \"http://books.toscrape.com/catalogue/\" + link\n",
    "                # Request the book's detail page\n",
    "                book_response = requests.get(full_link)\n",
    "                book_soup = BeautifulSoup(book_response.text, 'html.parser')\n",
    "\n",
    "                # Extract additional book details from the detail page\n",
    "                upc = book_soup.find('th', string='UPC').find_next_sibling('td').text\n",
    "                availability = book_soup.find('th', string='Availability').find_next_sibling('td').text\n",
    "                # Get description if available\n",
    "                description_tag = book_soup.select_one('#product_description ~ p')\n",
    "                description = description_tag.text if description_tag else ''\n",
    "                # Extract genre from breadcrumb navigation\n",
    "                genre = book_soup.select('ul.breadcrumb li')[2].text.strip()\n",
    "\n",
    "                # Add book details to the collection\n",
    "                all_books.append({\n",
    "                    'UPC': upc,\n",
    "                    'Title': title,\n",
    "                    'Price (£)': price,\n",
    "                    'Rating': rating,\n",
    "                    'Genre': genre,\n",
    "                    'Availability': availability,\n",
    "                    'Description': description\n",
    "                })\n",
    "\n",
    "    return pd.DataFrame(all_books)"
   ]
  },
  {
   "cell_type": "code",
   "execution_count": 23,
   "id": "f41b1aed-58a2-464b-8f41-e2f778f35be2",
   "metadata": {},
   "outputs": [
    {
     "name": "stdout",
     "output_type": "stream",
     "text": [
      "                UPC                                              Title  \\\n",
      "0  ce6396b0f23f6ecc                                        Set Me Free   \n",
      "1  6258a1f6a6dcfe50  The Four Agreements: A Practical Guide to Pers...   \n",
      "2  6be3beb0793a53e7                                     Sophie's World   \n",
      "3  657fe5ead67a7767            Untitled Collection: Sabbath Poems 2014   \n",
      "4  51653ef291ab7ddc                                    This One Summer   \n",
      "\n",
      "   Price (£)  Rating           Genre             Availability  \\\n",
      "0      17.46       5     Young Adult  In stock (19 available)   \n",
      "1      17.66       5    Spirituality  In stock (18 available)   \n",
      "2      15.94       5      Philosophy  In stock (18 available)   \n",
      "3      14.27       4          Poetry  In stock (16 available)   \n",
      "4      19.49       4  Sequential Art  In stock (16 available)   \n",
      "\n",
      "                                         Description  \n",
      "0  Aaron Ledbetterâs future had been planned ou...  \n",
      "1  In The Four Agreements, don Miguel Ruiz reveal...  \n",
      "2  A page-turning novel that is also an explorati...  \n",
      "3  More than thirty-five years ago, when the weat...  \n",
      "4  Every summer, Rose goes with her mom and dad t...  \n"
     ]
    }
   ],
   "source": [
    "df = scrape_books(min_rating=4, max_price=20)\n",
    "print(df.head())"
   ]
  },
  {
   "cell_type": "code",
   "execution_count": 24,
   "id": "94b1d8d2-e283-4800-922e-2d4ad9456f88",
   "metadata": {},
   "outputs": [],
   "source": [
    "df.to_csv('books_filtered.csv', index=False)"
   ]
  },
  {
   "cell_type": "code",
   "execution_count": 25,
   "id": "283dfc2e-6705-48f3-a7c0-e25bce674818",
   "metadata": {},
   "outputs": [
    {
     "data": {
      "text/html": [
       "<div>\n",
       "<style scoped>\n",
       "    .dataframe tbody tr th:only-of-type {\n",
       "        vertical-align: middle;\n",
       "    }\n",
       "\n",
       "    .dataframe tbody tr th {\n",
       "        vertical-align: top;\n",
       "    }\n",
       "\n",
       "    .dataframe thead th {\n",
       "        text-align: right;\n",
       "    }\n",
       "</style>\n",
       "<table border=\"1\" class=\"dataframe\">\n",
       "  <thead>\n",
       "    <tr style=\"text-align: right;\">\n",
       "      <th></th>\n",
       "      <th>UPC</th>\n",
       "      <th>Title</th>\n",
       "      <th>Price (£)</th>\n",
       "      <th>Rating</th>\n",
       "      <th>Genre</th>\n",
       "      <th>Availability</th>\n",
       "      <th>Description</th>\n",
       "    </tr>\n",
       "  </thead>\n",
       "  <tbody>\n",
       "    <tr>\n",
       "      <th>0</th>\n",
       "      <td>ce6396b0f23f6ecc</td>\n",
       "      <td>Set Me Free</td>\n",
       "      <td>17.46</td>\n",
       "      <td>5</td>\n",
       "      <td>Young Adult</td>\n",
       "      <td>In stock (19 available)</td>\n",
       "      <td>Aaron Ledbetterâs future had been planned ou...</td>\n",
       "    </tr>\n",
       "    <tr>\n",
       "      <th>1</th>\n",
       "      <td>6258a1f6a6dcfe50</td>\n",
       "      <td>The Four Agreements: A Practical Guide to Pers...</td>\n",
       "      <td>17.66</td>\n",
       "      <td>5</td>\n",
       "      <td>Spirituality</td>\n",
       "      <td>In stock (18 available)</td>\n",
       "      <td>In The Four Agreements, don Miguel Ruiz reveal...</td>\n",
       "    </tr>\n",
       "    <tr>\n",
       "      <th>2</th>\n",
       "      <td>6be3beb0793a53e7</td>\n",
       "      <td>Sophie's World</td>\n",
       "      <td>15.94</td>\n",
       "      <td>5</td>\n",
       "      <td>Philosophy</td>\n",
       "      <td>In stock (18 available)</td>\n",
       "      <td>A page-turning novel that is also an explorati...</td>\n",
       "    </tr>\n",
       "    <tr>\n",
       "      <th>3</th>\n",
       "      <td>657fe5ead67a7767</td>\n",
       "      <td>Untitled Collection: Sabbath Poems 2014</td>\n",
       "      <td>14.27</td>\n",
       "      <td>4</td>\n",
       "      <td>Poetry</td>\n",
       "      <td>In stock (16 available)</td>\n",
       "      <td>More than thirty-five years ago, when the weat...</td>\n",
       "    </tr>\n",
       "    <tr>\n",
       "      <th>4</th>\n",
       "      <td>51653ef291ab7ddc</td>\n",
       "      <td>This One Summer</td>\n",
       "      <td>19.49</td>\n",
       "      <td>4</td>\n",
       "      <td>Sequential Art</td>\n",
       "      <td>In stock (16 available)</td>\n",
       "      <td>Every summer, Rose goes with her mom and dad t...</td>\n",
       "    </tr>\n",
       "  </tbody>\n",
       "</table>\n",
       "</div>"
      ],
      "text/plain": [
       "                UPC                                              Title  \\\n",
       "0  ce6396b0f23f6ecc                                        Set Me Free   \n",
       "1  6258a1f6a6dcfe50  The Four Agreements: A Practical Guide to Pers...   \n",
       "2  6be3beb0793a53e7                                     Sophie's World   \n",
       "3  657fe5ead67a7767            Untitled Collection: Sabbath Poems 2014   \n",
       "4  51653ef291ab7ddc                                    This One Summer   \n",
       "\n",
       "   Price (£)  Rating           Genre             Availability  \\\n",
       "0      17.46       5     Young Adult  In stock (19 available)   \n",
       "1      17.66       5    Spirituality  In stock (18 available)   \n",
       "2      15.94       5      Philosophy  In stock (18 available)   \n",
       "3      14.27       4          Poetry  In stock (16 available)   \n",
       "4      19.49       4  Sequential Art  In stock (16 available)   \n",
       "\n",
       "                                         Description  \n",
       "0  Aaron Ledbetterâs future had been planned ou...  \n",
       "1  In The Four Agreements, don Miguel Ruiz reveal...  \n",
       "2  A page-turning novel that is also an explorati...  \n",
       "3  More than thirty-five years ago, when the weat...  \n",
       "4  Every summer, Rose goes with her mom and dad t...  "
      ]
     },
     "execution_count": 25,
     "metadata": {},
     "output_type": "execute_result"
    }
   ],
   "source": [
    "df.head()"
   ]
  },
  {
   "cell_type": "code",
   "execution_count": null,
   "id": "c2622d6c-9bc5-4dd7-af42-b159a1473c77",
   "metadata": {},
   "outputs": [],
   "source": []
  }
 ],
 "metadata": {
  "colab": {
   "provenance": []
  },
  "kernelspec": {
   "display_name": "Python [conda env:base] *",
   "language": "python",
   "name": "conda-base-py"
  },
  "language_info": {
   "codemirror_mode": {
    "name": "ipython",
    "version": 3
   },
   "file_extension": ".py",
   "mimetype": "text/x-python",
   "name": "python",
   "nbconvert_exporter": "python",
   "pygments_lexer": "ipython3",
   "version": "3.13.5"
  }
 },
 "nbformat": 4,
 "nbformat_minor": 5
}
